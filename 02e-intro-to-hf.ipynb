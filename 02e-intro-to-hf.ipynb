{
 "cells": [
  {
   "cell_type": "markdown",
   "metadata": {},
   "source": [
    "Sheet 2.5: Introduction to HuggingFace & LMs\n",
    "========================\n",
    "**Author**: Polina Tsvilodub"
   ]
  },
  {
   "cell_type": "markdown",
   "metadata": {},
   "source": [
    "## Introduction: ML models\n",
    "In the previous sheets, we have learned how to explicitly define neural networks and recurrent language models using native PyTorch. Further, we have seen the core steps of machine learning workflows with any kind of model, in general:\n",
    "1. prepare data (sheet 1.1, respective steps in sheets 2.2-2.4)\n",
    "2. define model architecture (i.e., define which layers with which parameters the network should have)\n",
    "3. train model on data\n",
    "4. evaluate model (sheet 2.4; more on evaluation of language models to come in future sessions)\n",
    "\n",
    "The contents of the single steps differ by application (e.g., we use different kinds of data nad models to train an image classifier vs. to train a language model), but the general structure of the process is the same.\n",
    "\n",
    "With this background, in principle, you should be able to put together any well-known neural network yourself! (e.g., implement Llama-3 or GPT-3)! (assuming sufficient time and access to information like PyTorch docs, details of the architecture, maybe some concepts from the next lecture, of course)\n",
    "\n",
    "However, putting together the network (i.e., specifying all the layers, their sizes, implementing the forward pass through the net etc.) does *not* mean that you will be able to use the model for generating predictions in practice. Generating predictions (= running inference) on new inputs (e.g., predicting continuations of new input texts or classifying new images) is the purpose of creating a machine learning model -- we build them because we want to automate these tasks. Ideally, we want the model to *generalize well* -- to be able to handle inputs for that the model was not trained on and still perform the task correctly (e.g., produce a sensible text completion for an entirely new text input).\n",
    "\n",
    "For generating predictions, we need the **trained** model, i.e., we need not just the definition of the model, but also the *model weights* set to optimized values that result from (successful) training. That is, we need the values of all the weight matrices (we have seen those in sheet 2.3). In practice, successful training of state-of-the-art models is quite costly and data-hungry (at least for creating actually useful models).\n",
    "\n",
    "**NB**: The practical sheets will try to be consistent and use the term \"architecture\" to refer to the more abstract definition, carcass, of a model (i.e,. the specific layer types and parameterizations underlying the model), and the term \"model\" for the particular instatiation with particular weights of that model configuration. When referring to a specific model instance, there are different important concepts / terms:\n",
    "* **pretrained** model: this is commonly used in the domains of NLP and computer vision (CV) where models are usually first trained on a very large collection of data to learn their task (in general). In the context of NLP, this refers to a model that has been trained to predict the next word on a large collection of text (e.g., on the Pile which we have seen in sheet 1.1). On a high level, this step can be thought of as the step where the model learns to predict fluent language in general. In the context of CV, this often refers to a model that has been trained to classify images on the ImageNet dataset.\n",
    "* **fine-tuned** model: this refers to a pretrained model that has been further trained on a *task-specific*, or, generally curated and therefore, usually smaller, dataset. This step can be thought of as optimizing the model for a particular task, like predicting texts in a particular domain (e.g., movie reviews). This is usually done based on a pretrained model because curated datasets are often too small to learn a task from scratch well.\n",
    "\n",
    "The term \"trained\" model will be mostly used as an umbrella terms for both types of models."
   ]
  },
  {
   "cell_type": "markdown",
   "metadata": {},
   "source": [
    "> <strong><span style=&ldquo;color:#D83D2B;&rdquo;>Exercise 2.5.1: ML models workflow </span></strong>\n",
    "> 1. Given examples from the previous sheets, in your own words, describe the difference between *training* a model and running *inference* with a model. (Understanding this is absolutely critical; please ask questions if have any doubts!)\n",
    "> 2. Suppose you want to train the model GPT-2 to generate IMDB movie reviews. In your own words (few intuitive sentences), describe the highlevel steps that you would do to accomplish this task. "
   ]
  },
  {
   "cell_type": "markdown",
   "metadata": {},
   "source": [
    "## HuggingFace 🤗\n",
    "\n",
    "Luckily, there are many popular *open-source* models, i.e., those for which the architecture and the weights have been made freely accessible by the developers: e.g., GPT-2, the LLama models, BERT etc. In contrast, e.g., GPT-4 is *closed-source* -- we don't know exactly which layers with which configurations are inside the model and we cannot access the weights ourselves; they are only hosted by OpenAI and we can send our input data to their servers and get back predictions (by using the OpenAI API).\n",
    "\n",
    "Open-source models are frequently used by the community and have been made available via platforms and packages which provide an easy interface for loading pretrained models, generating predictions from these pretrained models, or training models from scratch. The by-far most used platform for open-source resources which we will heavily use in this course is [**HuggingFace**](https://huggingface.co/). HuggingFace provides infrastructure for working with many different types of machine learning models (for working with audio, vision, language tasks), but, as you might guess, we will be focusing on functionality relevant to language modeling. HuggingFace will often be abbreviated as HF throughout the sheets.\n",
    "\n",
    "Here is a high-level overview of all the nice things that HuggingFace provides: \n",
    "* (most relevant for us) the packages [`transformers`](https://huggingface.co/docs/transformers/en/index) and [`datasets`](https://huggingface.co/docs/datasets/index) which we already installed alst week. These allow easy access and workflow with models and with datasets.\n",
    "  * Overviews, guides, tutorials for different tasks that can be done with `transformers`, docs for different models as well as the documentation of the API can be found [here](https://huggingface.co/docs/transformers/index).\n",
    "  * The same resources for `datasets` can be found [here](https://huggingface.co/docs/datasets/index).\n",
    "* The (online) HF platform called HuggingFace Hub actually stores trained model weights (also sometimes called checkpoints) and datasets. They are downloaded to the local machine when accessed through the `transformers` or `datasets` package. Available models can be browsed [here](https://huggingface.co/models); available datasets can be browsed [here](https://huggingface.co/datasets). \n",
    "  * In order to *upload* yourown resources to HF Hub and in order to access some models (inclding LLama-2), you need a free account. It can easily be created on HF. So far, an account is not required for following the class.\n",
    "* The platform provides much more (feel free to explore! but also try not to feel overwhlemed if you are seeing HF for the first time). Here are some highlights most relevant to the course:\n",
    "  * [NLP course](https://huggingface.co/learn/nlp-course/chapter1/1) which includes practical tutorials for common NLP tasks with transformers.\n",
    "  * [`evaluate`](https://huggingface.co/docs/evaluate/index) package for computing common evaluation metrics (more on this in the next sessions)\n",
    "  * (more advanced) packages for [accelerated](https://huggingface.co/docs/accelerate/index) and parallelized training on GPUs, via parameter-efficient fine-tuning ([PEFT](https://huggingface.co/docs/peft/index)) and more. \n",
    "  * `tokenizers` [package](https://huggingface.co/docs/tokenizers/index). However, we will only use functionality of pretrained tokenizers which are shipped together with models via transformers.\n"
   ]
  },
  {
   "cell_type": "markdown",
   "metadata": {},
   "source": [
    "> <strong><span style=&ldquo;color:#D83D2B;&rdquo;>Exercise 2.5.2: Familiarization with HuggingFace </span></strong>\n",
    ">\n",
    "> 1. Just for yourself, try to find whether the model BERT is available on HF. If yes, try get a sense of the kind of information that HF provides about available models."
   ]
  },
  {
   "cell_type": "markdown",
   "metadata": {},
   "source": [
    "### Working with LMs via 🤗 Transformers\n",
    "\n",
    "We will dive right into using the `transformers` package ourselves. The learning goals for the remaining part of the sheett are:\n",
    "* learn how to load a pretrained language model\n",
    "* learn how to generate a prediction with the model\n",
    "* learn about the `Trainer` class which allows to train from scratch or fine-tune the model (the following code is inspired by [this]( https://huggingface.co/docs/transformers/training) tutorial)"
   ]
  },
  {
   "cell_type": "markdown",
   "metadata": {},
   "source": [
    "**NB:** this sheet uses the pretrained [GPT-2](https://d4mucfpksywv.cloudfront.net/better-language-models/language_models_are_unsupervised_multitask_learners.pdf), a causal (decoder-only) transformer model. We have not covered transformers in detail yet, so the set up of the model and some of the required set-up for using it are treated as a blackbox in this sheet. More in-depth explanations will follow the next lecture covering transformers."
   ]
  },
  {
   "cell_type": "markdown",
   "metadata": {},
   "source": [
    "There are two ways of generating predictions with a trained model available on HF. First, we will do so explicitly. The steps are: \n",
    "* load the pretrained model with its dedicated class\n",
    "* tokenize some input text \n",
    "* generate predictions with greedy decoding (i.e., under the hood, compute forward passes through the model and retrieve the most likely token, given the previous input)\n",
    "* convert the newly generated tokens back into human-readable strings"
   ]
  },
  {
   "cell_type": "code",
   "execution_count": 1,
   "metadata": {},
   "outputs": [
    {
     "name": "stderr",
     "output_type": "stream",
     "text": [
      "/Users/swagatam/miniconda3/envs/ullm/lib/python3.9/site-packages/tqdm/auto.py:21: TqdmWarning: IProgress not found. Please update jupyter and ipywidgets. See https://ipywidgets.readthedocs.io/en/stable/user_install.html\n",
      "  from .autonotebook import tqdm as notebook_tqdm\n"
     ]
    }
   ],
   "source": [
    "# import packages\n",
    "# note: if you are on Colab, you might need to install some requirements\n",
    "# as we did in Sheet 1.1. Otherwise, don't forget to activate your local environment\n",
    "\n",
    "import transformers\n",
    "from transformers import pipeline\n",
    "from transformers import GPT2Tokenizer, GPT2LMHeadModel, AutoTokenizer, AutoModelForCausalLM\n",
    "from datasets import load_dataset\n",
    "from torch.utils.data import Dataset, DataLoader\n",
    "from tqdm import tqdm\n",
    "import torch\n",
    "import matplotlib.pyplot as plt\n",
    "from transformers import DataCollatorForLanguageModeling\n",
    "from transformers import Trainer, TrainingArguments"
   ]
  },
  {
   "cell_type": "code",
   "execution_count": null,
   "metadata": {},
   "outputs": [],
   "source": [
    "# additioanlly, we need to install accelerate\n",
    "# uncomment and run the following line on Colab or in your environment\n",
    "# !pip install accelerate\n",
    "# NOTE: in a notebook, reloading of the kernel might be required after installation if you get dependency errors with the transformers package"
   ]
  },
  {
   "cell_type": "code",
   "execution_count": 2,
   "metadata": {},
   "outputs": [
    {
     "name": "stdout",
     "output_type": "stream",
     "text": [
      "Device: mps\n"
     ]
    }
   ],
   "source": [
    "# define computational device\n",
    "if torch.cuda.is_available():\n",
    "    device = torch.device(\"cuda\")\n",
    "    print(f\"Device: {device}\")\n",
    "elif torch.backends.mps.is_available():\n",
    "    device = torch.device(\"mps\")\n",
    "    print(f\"Device: {device}\")\n",
    "else:\n",
    "    device = torch.device(\"cpu\")\n",
    "    print(f\"Device: {device}\")"
   ]
  },
  {
   "cell_type": "code",
   "execution_count": 145,
   "metadata": {},
   "outputs": [
    {
     "name": "stderr",
     "output_type": "stream",
     "text": [
      "The attention mask and the pad token id were not set. As a consequence, you may observe unexpected behavior. Please pass your input's `attention_mask` to obtain reliable results.\n",
      "Setting `pad_token_id` to `eos_token_id`:50256 for open-end generation.\n"
     ]
    },
    {
     "name": "stdout",
     "output_type": "stream",
     "text": [
      "Tokenized text (input IDs)  tensor([[35364,  3303,  7587,   318,   220]], device='mps:0')\n"
     ]
    },
    {
     "name": "stderr",
     "output_type": "stream",
     "text": [
      "/Users/swagatam/miniconda3/envs/ullm/lib/python3.9/site-packages/transformers/generation/utils.py:1141: UserWarning: Using the model-agnostic default `max_length` (=20) to control the generation length. We recommend setting `max_new_tokens` to control the maximum length of the generation.\n",
      "  warnings.warn(\n"
     ]
    },
    {
     "name": "stdout",
     "output_type": "stream",
     "text": [
      "Predicted continuation:  Natural language processing is  a very important part of the language processing process.\n",
      "The first step\n"
     ]
    }
   ],
   "source": [
    "# define input text\n",
    "input_text = \"Natural language processing is \"\n",
    "\n",
    "# load pretrained model and respective tokenizer\n",
    "# the class GPT2LMHeadModel initialized the \"container\" for the GPT-2\n",
    "# architecture with an LM head - i.e., an output layer for predicting next tokens\n",
    "# .from_pretrained loads the pretrained weights into the container\n",
    "model = GPT2LMHeadModel.from_pretrained(\"gpt2\").to(device)\n",
    "# load pretrained tokenizer belonging to GPT-2 (more on tokenizers next session)\n",
    "##### YOUR CODE HERE ##### (Hint: you have seen how to do this in sheet 1.1)\n",
    "tokenizer = AutoTokenizer.from_pretrained(\"gpt2\")\n",
    "\n",
    "# tokenize our input text\n",
    "input_ids = tokenizer.encode(input_text, return_tensors=\"pt\").to(device)\n",
    "print(\"Tokenized text (input IDs) \", input_ids)\n",
    "\n",
    "# generate predictions\n",
    "prediction = model.generate(input_ids)\n",
    "# decode the prediction (i.e., convert tokens back to text)\n",
    "answer = tokenizer.decode(prediction[0])\n",
    "print(\"Predicted continuation: \", answer)"
   ]
  },
  {
   "cell_type": "code",
   "execution_count": 158,
   "metadata": {},
   "outputs": [
    {
     "data": {
      "text/plain": [
       "torch.Size([1, 5])"
      ]
     },
     "execution_count": 158,
     "metadata": {},
     "output_type": "execute_result"
    }
   ],
   "source": [
    "input_ids.shape"
   ]
  },
  {
   "cell_type": "markdown",
   "metadata": {},
   "source": [
    "Alternatively, we can make use of transformer's `pipeline` -- a utility wrapper around these steps which makes it easier for us to generate predictions, without having to manually implement them. HF provides pipelines for many common tasks. "
   ]
  },
  {
   "cell_type": "code",
   "execution_count": 4,
   "metadata": {},
   "outputs": [
    {
     "name": "stderr",
     "output_type": "stream",
     "text": [
      "Setting `pad_token_id` to `eos_token_id`:50256 for open-end generation.\n"
     ]
    },
    {
     "name": "stdout",
     "output_type": "stream",
     "text": [
      "Pipeline output:  [{'generated_text': 'Natural language processing is \\xa0a very strong technology.\" In the US, it\\'s not only computers, but also the Internet. This is why you would think the language industry would be a lot more excited about this and not only how amazing such a'}]\n"
     ]
    }
   ],
   "source": [
    "# initialize the pipeline with the model of our choice\n",
    "generator = pipeline(\n",
    "    # specify task\n",
    "    'text-generation', \n",
    "    model='gpt2'\n",
    ")\n",
    "\n",
    "# run the pipeline with default configs (note that the default is NOT greedy decoding)\n",
    "pipe_output = generator(input_text)\n",
    "print(\"Pipeline output: \", pipe_output)"
   ]
  },
  {
   "cell_type": "markdown",
   "metadata": {},
   "source": [
    "> <strong><span style=&ldquo;color:#D83D2B;&rdquo;>Exercise 2.5.3: Generating predictions </span></strong>\n",
    ">\n",
    "> 1. Come up with a different input string and generate a prediction. Would you consider the output a good prediction?\n",
    "> 2. Change the code (explicit or implicit) by adding a few parameters so as to use *pure sampling* for predicting the output. How do the predictions change? (Hint: see slides for a reminder about decoding schemes and [docs](https://huggingface.co/docs/transformers/main_classes/pipelines#transformers.TextGenerationPipeline) for practical implementation)\n"
   ]
  },
  {
   "cell_type": "markdown",
   "metadata": {},
   "source": [
    "Another common use of pretrained models is to further fine-tune them on a specific dataset, e.g., to specialize them on generating text of a particular domain, or to train them for a specific task. The latter is often with a task-specific output *head* -- i.e., a different output layer is used. For instance, for classification tasks (like sentiment classification), a classification layer could be trained on a sentiment classification dataset, while keeping the rest of the network fixed from pretraining (or, frozen).\n",
    "\n",
    "The following part shows how to fine-tune GPT-2 on a specific corpus -- IMDB movie reviews. Specifically, we will make use of the transformers `Trainer` class which provides convenient wrappers around different steps that need to be done in order to train a model. It essentially simplifies the implementation of the single substeps that are summarized under step 3 in the high-level overview of the ML workflow at the beginning of the sheet."
   ]
  },
  {
   "cell_type": "markdown",
   "metadata": {},
   "source": [
    "> <strong><span style=&ldquo;color:#D83D2B;&rdquo;>Exercise 2.5.4: Training steps </span></strong>\n",
    ">\n",
    "> 1. As a reminder, using pseudo-code, list of concrete steps that constitute a single training step in a training loop. Take a look at the training loops in sheets 2.2 and 2.3 to compare your results. \n",
    "> 2. As you go through the following code, please complete it in spots which are commented with \"### YOUR CODE HERE ###\""
   ]
  },
  {
   "cell_type": "code",
   "execution_count": 5,
   "metadata": {},
   "outputs": [
    {
     "name": "stderr",
     "output_type": "stream",
     "text": [
      "huggingface/tokenizers: The current process just got forked, after parallelism has already been used. Disabling parallelism to avoid deadlocks...\n",
      "To disable this warning, you can either:\n",
      "\t- Avoid using `tokenizers` before the fork if possible\n",
      "\t- Explicitly set the environment variable TOKENIZERS_PARALLELISM=(true | false)\n",
      "Downloading readme: 100%|██████████████████| 7.81k/7.81k [00:00<00:00, 9.56MB/s]\n",
      "Downloading data: 100%|████████████████████| 21.0M/21.0M [00:03<00:00, 5.94MB/s]\n",
      "Downloading data: 100%|████████████████████| 20.5M/20.5M [00:04<00:00, 4.96MB/s]\n",
      "Downloading data: 100%|████████████████████| 42.0M/42.0M [00:07<00:00, 5.91MB/s]\n",
      "Generating train split: 100%|██| 25000/25000 [00:00<00:00, 413018.70 examples/s]\n",
      "Generating test split: 100%|███| 25000/25000 [00:00<00:00, 836985.95 examples/s]\n",
      "Generating unsupervised split: 100%|█| 50000/50000 [00:00<00:00, 892572.23 examp\n"
     ]
    }
   ],
   "source": [
    "# load IMDB dataset\n",
    "# dataset = load_dataset(\"truthful_qa\", \"generation\")\n",
    "dataset = load_dataset(\"stanfordnlp/imdb\", split=\"train\")"
   ]
  },
  {
   "cell_type": "code",
   "execution_count": 12,
   "metadata": {},
   "outputs": [
    {
     "data": {
      "text/plain": [
       "Dataset({\n",
       "    features: ['text', 'label'],\n",
       "    num_rows: 25000\n",
       "})"
      ]
     },
     "execution_count": 12,
     "metadata": {},
     "output_type": "execute_result"
    }
   ],
   "source": [
    "dataset"
   ]
  },
  {
   "cell_type": "code",
   "execution_count": 15,
   "metadata": {},
   "outputs": [
    {
     "name": "stdout",
     "output_type": "stream",
     "text": [
      "I rented I AM CURIOUS-YELLOW from my video store because of all the controversy that surrounded it when it was first released in 1967. I also heard that at first it was seized by U.S. customs if it ever tried to enter this country, therefore being a fan of films considered \"controversial\" I really had to see this for myself.<br /><br />The plot is centered around a young Swedish drama student named Lena who wants to learn everything she can about life. In particular she wants to focus her attentions to making some sort of documentary on what the average Swede thought about certain political issues such as the Vietnam War and race issues in the United States. In between asking politicians and ordinary denizens of Stockholm about their opinions on politics, she has sex with her drama teacher, classmates, and married men.<br /><br />What kills me about I AM CURIOUS-YELLOW is that 40 years ago, this was considered pornographic. Really, the sex and nudity scenes are few and far between, even then it's not shot like some cheaply made porno. While my countrymen mind find it shocking, in reality sex and nudity are a major staple in Swedish cinema. Even Ingmar Bergman, arguably their answer to good old boy John Ford, had sex scenes in his films.<br /><br />I do commend the filmmakers for the fact that any sex shown in the film is shown for artistic purposes rather than just to shock people and make money to be shown in pornographic theaters in America. I AM CURIOUS-YELLOW is a good film for anyone wanting to study the meat and potatoes (no pun intended) of Swedish cinema. But really, this film doesn't have much of a plot.\n"
     ]
    }
   ],
   "source": [
    "print(dataset[0]['text'])"
   ]
  },
  {
   "cell_type": "code",
   "execution_count": 157,
   "metadata": {},
   "outputs": [
    {
     "data": {
      "text/plain": [
       "['text', 'label']"
      ]
     },
     "execution_count": 157,
     "metadata": {},
     "output_type": "execute_result"
    }
   ],
   "source": [
    "dataset.column_names"
   ]
  },
  {
   "cell_type": "code",
   "execution_count": 45,
   "metadata": {},
   "outputs": [
    {
     "name": "stderr",
     "output_type": "stream",
     "text": [
      "Map: 100%|███████████████████████| 25000/25000 [00:03<00:00, 6565.51 examples/s]\n"
     ]
    }
   ],
   "source": [
    "# set the pad token of the tokenizer which we loaded above\n",
    "tokenizer.pad_token = tokenizer.eos_token\n",
    "# set the side on which pad tokens should be added to the input (if required)\n",
    "tokenizer.padding_side = \"left\" # why left??\n",
    "# define a function to collate the data into batches and tokenize it\n",
    "# this helper allows to massage the data such that it can be batched into the same \n",
    "# tensor representing a batch of inputs and can be used for training.\n",
    "# specifically it creates *labels* for the model to predict\n",
    "# note that the labels are the same as the input, **not** shifted by one token relative to the input\n",
    "# the shifting is done automatically by the HF model class when the automatic loss computation is used\n",
    "data_collator = DataCollatorForLanguageModeling(tokenizer, mlm=False)\n",
    "\n",
    "def tokenize(\n",
    "        input_text, \n",
    "        max_length=64, #if 1024, then I see <|endoftext|> from the beginning, but why pad on the left?\n",
    "        tokenizer=tokenizer\n",
    "    ):\n",
    "    \"\"\"\n",
    "   YOUR TEXT HERE.\n",
    "\n",
    "    Arguments\n",
    "    ---------\n",
    "    input_text : YOUR TEXT HERE.\n",
    "    max_length : YOUR TEXT HERE.\n",
    "\n",
    "    Returns\n",
    "    -------\n",
    "    YOUR TEXT HERE.\n",
    "    \"\"\"\n",
    "    tokenized_input = tokenizer(\n",
    "        input_text[\"text\"],\n",
    "        max_length=max_length,\n",
    "        padding=\"max_length\",\n",
    "        truncation=True,\n",
    "        return_tensors=\"pt\"\n",
    "    )\n",
    "    # mask padding tokens so that the model doesn't attend to them\n",
    "    # more on masking next week\n",
    "    tokenized_input[\"attention_mask\"] = (tokenized_input[\"input_ids\"] != tokenizer.pad_token_id).long()\n",
    "    return {\"input_ids\": tokenized_input['input_ids'],\n",
    "            \"attention_mask\": tokenized_input['attention_mask']}\n",
    "\n",
    "tokenized_datasets = dataset.map(\n",
    "    tokenize, batched=True, remove_columns=dataset.column_names\n",
    ")"
   ]
  },
  {
   "cell_type": "code",
   "execution_count": 160,
   "metadata": {},
   "outputs": [
    {
     "data": {
      "text/plain": [
       "dict_keys(['input_ids', 'attention_mask'])"
      ]
     },
     "execution_count": 160,
     "metadata": {},
     "output_type": "execute_result"
    }
   ],
   "source": [
    "tokenized_datasets[0].keys()"
   ]
  },
  {
   "cell_type": "code",
   "execution_count": 46,
   "metadata": {},
   "outputs": [
    {
     "data": {
      "text/plain": [
       "'I rented I AM CURIOUS-YELLOW from my video store because of all the controversy that surrounded it when it was first released in 1967. I also heard that at first it was seized by U.S. customs if it ever tried to enter this country, therefore being a fan of films considered \"cont'"
      ]
     },
     "execution_count": 46,
     "metadata": {},
     "output_type": "execute_result"
    }
   ],
   "source": [
    "# print a sample of the tokenized dataset\n",
    "tokenizer.decode(tokenized_datasets[0]['input_ids'])"
   ]
  },
  {
   "cell_type": "code",
   "execution_count": 47,
   "metadata": {},
   "outputs": [],
   "source": [
    "# since we don't want to fully fine-tune the model but rather learn \n",
    "# the basics of the set up, we will only use a small subset of the data\n",
    "subsampled_dataset = tokenized_datasets.select(range(500))"
   ]
  },
  {
   "cell_type": "code",
   "execution_count": 48,
   "metadata": {},
   "outputs": [
    {
     "name": "stdout",
     "output_type": "stream",
     "text": [
      "Tensor shape -- input_ids: torch.Size([5, 64])\n",
      "Tensor --  input_ids: tensor([   40, 26399,   314,  3001,   327, 47269, 20958,    12,    56, 23304,\n",
      "         3913,   422,   616,  2008,  3650,   780,   286,   477,   262, 10386,\n",
      "          326, 11191,   340,   618,   340,   373,   717,  2716,   287, 15904,\n",
      "           13,   314,   635,  2982,   326,   379,   717,   340,   373, 12000,\n",
      "          416,   471,    13,    50,    13, 17112,   611,   340,  1683,  3088,\n",
      "          284,  3802,   428,  1499,    11,  4361,   852,   257,  4336,   286,\n",
      "         7328,  3177,   366,  3642])\n",
      "Tensor shape -- attention_mask: torch.Size([5, 64])\n",
      "Tensor --  attention_mask: tensor([1, 1, 1, 1, 1, 1, 1, 1, 1, 1, 1, 1, 1, 1, 1, 1, 1, 1, 1, 1, 1, 1, 1, 1,\n",
      "        1, 1, 1, 1, 1, 1, 1, 1, 1, 1, 1, 1, 1, 1, 1, 1, 1, 1, 1, 1, 1, 1, 1, 1,\n",
      "        1, 1, 1, 1, 1, 1, 1, 1, 1, 1, 1, 1, 1, 1, 1, 1])\n",
      "Tensor shape -- labels: torch.Size([5, 64])\n",
      "Tensor --  labels: tensor([   40, 26399,   314,  3001,   327, 47269, 20958,    12,    56, 23304,\n",
      "         3913,   422,   616,  2008,  3650,   780,   286,   477,   262, 10386,\n",
      "          326, 11191,   340,   618,   340,   373,   717,  2716,   287, 15904,\n",
      "           13,   314,   635,  2982,   326,   379,   717,   340,   373, 12000,\n",
      "          416,   471,    13,    50,    13, 17112,   611,   340,  1683,  3088,\n",
      "          284,  3802,   428,  1499,    11,  4361,   852,   257,  4336,   286,\n",
      "         7328,  3177,   366,  3642])\n"
     ]
    }
   ],
   "source": [
    "# we inspect what the data_collator does\n",
    "# it takes a list of dataset examples and creates batches out of it, here it creates a batch of 5 examples\n",
    "# and input_ids[idx] == labels[idx]\n",
    "out = data_collator([subsampled_dataset[i] for i in range(5)])\n",
    "for key in out:\n",
    "    print(f\"Tensor shape -- {key}: {out[key].shape}\")\n",
    "    print(f\"Tensor --  {key}: {out[key][0]}\")"
   ]
  },
  {
   "cell_type": "code",
   "execution_count": 64,
   "metadata": {},
   "outputs": [
    {
     "name": "stdout",
     "output_type": "stream",
     "text": [
      "torch.Size([64]) torch.Size([64])\n"
     ]
    }
   ],
   "source": [
    "input_batch = out['input_ids'][0]\n",
    "labels_batch = out['labels'][0]\n",
    "print(input_batch.shape, labels_batch.shape)"
   ]
  },
  {
   "cell_type": "code",
   "execution_count": 65,
   "metadata": {},
   "outputs": [
    {
     "data": {
      "text/plain": [
       "tensor([   40, 26399,   314,  3001,   327, 47269, 20958,    12,    56, 23304,\n",
       "         3913,   422,   616,  2008,  3650,   780,   286,   477,   262, 10386,\n",
       "          326, 11191,   340,   618,   340,   373,   717,  2716,   287, 15904,\n",
       "           13,   314,   635,  2982,   326,   379,   717,   340,   373, 12000,\n",
       "          416,   471,    13,    50,    13, 17112,   611,   340,  1683,  3088,\n",
       "          284,  3802,   428,  1499,    11,  4361,   852,   257,  4336,   286,\n",
       "         7328,  3177,   366,  3642])"
      ]
     },
     "execution_count": 65,
     "metadata": {},
     "output_type": "execute_result"
    }
   ],
   "source": [
    "input_batch"
   ]
  },
  {
   "cell_type": "code",
   "execution_count": 66,
   "metadata": {},
   "outputs": [
    {
     "data": {
      "text/plain": [
       "tensor([   40, 26399,   314,  3001,   327, 47269, 20958,    12,    56, 23304,\n",
       "         3913,   422,   616,  2008,  3650,   780,   286,   477,   262, 10386,\n",
       "          326, 11191,   340,   618,   340,   373,   717,  2716,   287, 15904,\n",
       "           13,   314,   635,  2982,   326,   379,   717,   340,   373, 12000,\n",
       "          416,   471,    13,    50,    13, 17112,   611,   340,  1683,  3088,\n",
       "          284,  3802,   428,  1499,    11,  4361,   852,   257,  4336,   286,\n",
       "         7328,  3177,   366])"
      ]
     },
     "execution_count": 66,
     "metadata": {},
     "output_type": "execute_result"
    }
   ],
   "source": [
    "input_batch[..., :-1]"
   ]
  },
  {
   "cell_type": "code",
   "execution_count": 67,
   "metadata": {},
   "outputs": [
    {
     "data": {
      "text/plain": [
       "tensor([   40, 26399,   314,  3001,   327, 47269, 20958,    12,    56, 23304,\n",
       "         3913,   422,   616,  2008,  3650,   780,   286,   477,   262, 10386,\n",
       "          326, 11191,   340,   618,   340,   373,   717,  2716,   287, 15904,\n",
       "           13,   314,   635,  2982,   326,   379,   717,   340,   373, 12000,\n",
       "          416,   471,    13,    50,    13, 17112,   611,   340,  1683,  3088,\n",
       "          284,  3802,   428,  1499,    11,  4361,   852,   257,  4336,   286,\n",
       "         7328,  3177,   366,  3642])"
      ]
     },
     "execution_count": 67,
     "metadata": {},
     "output_type": "execute_result"
    }
   ],
   "source": [
    "labels_batch"
   ]
  },
  {
   "cell_type": "code",
   "execution_count": 68,
   "metadata": {},
   "outputs": [
    {
     "data": {
      "text/plain": [
       "(tensor([26399,   314,  3001,   327, 47269, 20958,    12,    56, 23304,  3913,\n",
       "           422,   616,  2008,  3650,   780,   286,   477,   262, 10386,   326,\n",
       "         11191,   340,   618,   340,   373,   717,  2716,   287, 15904,    13,\n",
       "           314,   635,  2982,   326,   379,   717,   340,   373, 12000,   416,\n",
       "           471,    13,    50,    13, 17112,   611,   340,  1683,  3088,   284,\n",
       "          3802,   428,  1499,    11,  4361,   852,   257,  4336,   286,  7328,\n",
       "          3177,   366,  3642]),\n",
       " torch.Size([63]))"
      ]
     },
     "execution_count": 68,
     "metadata": {},
     "output_type": "execute_result"
    }
   ],
   "source": [
    "labels_batch[..., 1:], labels_batch[..., 1:].shape"
   ]
  },
  {
   "cell_type": "markdown",
   "metadata": {},
   "source": [
    "**IMPORTANT:** it is key to understand the language modeling objective (i.e., mechanism used to train a model to predict the next token) and how it is implemented in practice. Conceptually, the LM objective is discussed at the beginning of the tutorial. In terms of implementation, the addition of special tokens and shifting happens within each transformers model, it is taken care of by the package. You can find and example for GPT-2 [here](https://github.com/huggingface/transformers/blob/571dd693b5d20754ecc472030903a94f92cfa9f8/src/transformers/models/gpt2/modeling_gpt2.py#L1100). As you can see, **the collator function above creates the labels that are used as target for prediction for us**. Please make sure that you understand this step and that you would be able to create labels, given an input, yourself. Note that if you manually implement the language modeling loss function (e.g., using the CrossEntropyLoss), you will have to do the processing of the inputs and labels yourself. "
   ]
  },
  {
   "cell_type": "markdown",
   "metadata": {},
   "source": [
    "> <strong><span style=&ldquo;color:#D83D2B;&rdquo;>Exercise 2.5.5: Understanding Trainer </span></strong>\n",
    ">\n",
    "> The next cell defines the key configurations of the training in `TrainingArguments`. These are passed to the `Trainer` in order to instantiate a training loop. \n",
    "> \n",
    "> 1. Please use the documentation [here](https://huggingface.co/docs/transformers/v4.40.1/en/main_classes/trainer#transformers.Trainer) to write short comments for each relevant line of the following code cell, so that you know what different training parameters there are.\n",
    "> 2. What is the size of the training data? What is the size of the test data?"
   ]
  },
  {
   "cell_type": "code",
   "execution_count": 146,
   "metadata": {},
   "outputs": [],
   "source": [
    "# define training arguments\n",
    "args = TrainingArguments(\n",
    "    output_dir=\"imdb_gpt2\", # The output directory where the model predictions and checkpoints will be written.\n",
    "    # overwrite_output_dir=True, #overwrite the content of the output directory\n",
    "    per_device_train_batch_size=32, #16, \n",
    "    per_device_eval_batch_size=32, #16,\n",
    "    \n",
    "    evaluation_strategy=\"steps\", # Evaluation is done (and logged) every `eval_steps`.\n",
    "    eval_steps=5,\n",
    "    \n",
    "    logging_steps=1, # Number of update steps between two logs if logging_strategy=\"steps\" (default).\n",
    "    gradient_accumulation_steps=1,\n",
    "    \n",
    "    num_train_epochs=10, #1,\n",
    "    \n",
    "    weight_decay=0.1,\n",
    "    lr_scheduler_type=\"cosine\",\n",
    "    learning_rate=5e-4,\n",
    "    save_steps=5_000,\n",
    "    fp16=True if device == \"cuda\" else False,\n",
    "    push_to_hub=False,\n",
    "    use_mps_device=True if device == \"mps\" else False,\n",
    "    \n",
    ")\n",
    "\n",
    "trainer = Trainer(\n",
    "    model=model,\n",
    "    tokenizer=tokenizer,\n",
    "    args=args,\n",
    "    data_collator=data_collator,\n",
    "    train_dataset=subsampled_dataset,\n",
    "    eval_dataset=subsampled_dataset,\n",
    ")"
   ]
  },
  {
   "cell_type": "code",
   "execution_count": 147,
   "metadata": {},
   "outputs": [
    {
     "data": {
      "text/html": [
       "\n",
       "    <div>\n",
       "      \n",
       "      <progress value='160' max='160' style='width:300px; height:20px; vertical-align: middle;'></progress>\n",
       "      [160/160 03:28, Epoch 10/10]\n",
       "    </div>\n",
       "    <table border=\"1\" class=\"dataframe\">\n",
       "  <thead>\n",
       " <tr style=\"text-align: left;\">\n",
       "      <th>Step</th>\n",
       "      <th>Training Loss</th>\n",
       "      <th>Validation Loss</th>\n",
       "    </tr>\n",
       "  </thead>\n",
       "  <tbody>\n",
       "    <tr>\n",
       "      <td>5</td>\n",
       "      <td>4.510100</td>\n",
       "      <td>4.116825</td>\n",
       "    </tr>\n",
       "    <tr>\n",
       "      <td>10</td>\n",
       "      <td>4.964400</td>\n",
       "      <td>4.275467</td>\n",
       "    </tr>\n",
       "    <tr>\n",
       "      <td>15</td>\n",
       "      <td>4.446100</td>\n",
       "      <td>3.880339</td>\n",
       "    </tr>\n",
       "    <tr>\n",
       "      <td>20</td>\n",
       "      <td>3.923600</td>\n",
       "      <td>3.636598</td>\n",
       "    </tr>\n",
       "    <tr>\n",
       "      <td>25</td>\n",
       "      <td>4.357400</td>\n",
       "      <td>3.980738</td>\n",
       "    </tr>\n",
       "    <tr>\n",
       "      <td>30</td>\n",
       "      <td>3.948000</td>\n",
       "      <td>3.431387</td>\n",
       "    </tr>\n",
       "    <tr>\n",
       "      <td>35</td>\n",
       "      <td>3.525100</td>\n",
       "      <td>3.226391</td>\n",
       "    </tr>\n",
       "    <tr>\n",
       "      <td>40</td>\n",
       "      <td>3.401700</td>\n",
       "      <td>3.014305</td>\n",
       "    </tr>\n",
       "    <tr>\n",
       "      <td>45</td>\n",
       "      <td>3.563100</td>\n",
       "      <td>2.912811</td>\n",
       "    </tr>\n",
       "    <tr>\n",
       "      <td>50</td>\n",
       "      <td>3.203500</td>\n",
       "      <td>3.125399</td>\n",
       "    </tr>\n",
       "    <tr>\n",
       "      <td>55</td>\n",
       "      <td>3.440800</td>\n",
       "      <td>2.982467</td>\n",
       "    </tr>\n",
       "    <tr>\n",
       "      <td>60</td>\n",
       "      <td>3.267400</td>\n",
       "      <td>2.830853</td>\n",
       "    </tr>\n",
       "    <tr>\n",
       "      <td>65</td>\n",
       "      <td>3.118000</td>\n",
       "      <td>2.982560</td>\n",
       "    </tr>\n",
       "    <tr>\n",
       "      <td>70</td>\n",
       "      <td>3.381100</td>\n",
       "      <td>2.877269</td>\n",
       "    </tr>\n",
       "    <tr>\n",
       "      <td>75</td>\n",
       "      <td>3.128300</td>\n",
       "      <td>2.706426</td>\n",
       "    </tr>\n",
       "    <tr>\n",
       "      <td>80</td>\n",
       "      <td>3.126400</td>\n",
       "      <td>2.566988</td>\n",
       "    </tr>\n",
       "    <tr>\n",
       "      <td>85</td>\n",
       "      <td>2.572000</td>\n",
       "      <td>2.384973</td>\n",
       "    </tr>\n",
       "    <tr>\n",
       "      <td>90</td>\n",
       "      <td>2.685600</td>\n",
       "      <td>2.254757</td>\n",
       "    </tr>\n",
       "    <tr>\n",
       "      <td>95</td>\n",
       "      <td>2.643600</td>\n",
       "      <td>2.113560</td>\n",
       "    </tr>\n",
       "    <tr>\n",
       "      <td>100</td>\n",
       "      <td>2.229000</td>\n",
       "      <td>1.986180</td>\n",
       "    </tr>\n",
       "    <tr>\n",
       "      <td>105</td>\n",
       "      <td>2.117000</td>\n",
       "      <td>1.884243</td>\n",
       "    </tr>\n",
       "    <tr>\n",
       "      <td>110</td>\n",
       "      <td>2.211500</td>\n",
       "      <td>1.794312</td>\n",
       "    </tr>\n",
       "    <tr>\n",
       "      <td>115</td>\n",
       "      <td>1.904100</td>\n",
       "      <td>1.712083</td>\n",
       "    </tr>\n",
       "    <tr>\n",
       "      <td>120</td>\n",
       "      <td>1.866200</td>\n",
       "      <td>1.642261</td>\n",
       "    </tr>\n",
       "    <tr>\n",
       "      <td>125</td>\n",
       "      <td>2.049400</td>\n",
       "      <td>1.586265</td>\n",
       "    </tr>\n",
       "    <tr>\n",
       "      <td>130</td>\n",
       "      <td>1.690100</td>\n",
       "      <td>1.583522</td>\n",
       "    </tr>\n",
       "    <tr>\n",
       "      <td>135</td>\n",
       "      <td>1.784500</td>\n",
       "      <td>1.564191</td>\n",
       "    </tr>\n",
       "    <tr>\n",
       "      <td>140</td>\n",
       "      <td>1.914000</td>\n",
       "      <td>1.532866</td>\n",
       "    </tr>\n",
       "    <tr>\n",
       "      <td>145</td>\n",
       "      <td>1.727200</td>\n",
       "      <td>1.510102</td>\n",
       "    </tr>\n",
       "    <tr>\n",
       "      <td>150</td>\n",
       "      <td>1.774700</td>\n",
       "      <td>1.505744</td>\n",
       "    </tr>\n",
       "    <tr>\n",
       "      <td>155</td>\n",
       "      <td>1.827200</td>\n",
       "      <td>1.502802</td>\n",
       "    </tr>\n",
       "    <tr>\n",
       "      <td>160</td>\n",
       "      <td>1.665500</td>\n",
       "      <td>1.502200</td>\n",
       "    </tr>\n",
       "  </tbody>\n",
       "</table><p>"
      ],
      "text/plain": [
       "<IPython.core.display.HTML object>"
      ]
     },
     "metadata": {},
     "output_type": "display_data"
    },
    {
     "data": {
      "text/plain": [
       "TrainOutput(global_step=160, training_loss=2.916428288817406, metrics={'train_runtime': 209.374, 'train_samples_per_second': 23.881, 'train_steps_per_second': 0.764, 'total_flos': 163307520000000.0, 'train_loss': 2.916428288817406, 'epoch': 10.0})"
      ]
     },
     "execution_count": 147,
     "metadata": {},
     "output_type": "execute_result"
    }
   ],
   "source": [
    "# run the training of the model\n",
    "trainer.train()"
   ]
  },
  {
   "cell_type": "markdown",
   "metadata": {},
   "source": [
    "Note that **we did not explicitly pass a loss function to the training. The Trainer constructs it automatically.** However, we could also explicitly define the language modeling loss. For this, we need to override the `compute_loss()` method of the Trainer and build a custom Trainer with it. "
   ]
  },
  {
   "cell_type": "markdown",
   "metadata": {},
   "source": [
    "For each batch of `inputs` of shape [B=32, T=64], the prediction `logits` are of shape [B=T, T=64, C=50257]. How to interpret this?\n",
    "---\n",
    "Take a particular string in the input batch, say, `x[b]` which is a vector of size `T`, now for this vector, we want to predict another vector of size `T` that contains the next token predictions for the sequence `x[b, {0,1,2,...,t-1}]` (or simply `x[b, :t]`). Written more clearly (assuming a zero-based indexing):\n",
    "\n",
    "```\n",
    "x[b, {0}] should predict x[b, 1]\n",
    "x[b, {0, 1}] should predict x[b, 2]\n",
    "...\n",
    "x[b, {0, 1, ..., T-2}] should predict x[b, T-1] (this is what we want, to predict the last token which is the answer key!)\n",
    "```\n",
    "and this is the reason behind shifting the inputs and targets for loss calculation earlier, we want to end inputs early (till `T-2`-th token), and the target is the same input array but starting from `1` to `T-1`, note that both these have now size `T-1`.\n",
    "\n",
    "Now coming to `logits` it is a tensor of shape [B, T, C] when the input had been `x` of shape [B, T].\n",
    "`logits[b, t, ...]` is a distribution over the next `(t+1)`-th predicted token for the sequence `x[b, {0, 1, ..., t}]`, so note that here `t` starts from 1 and goes till `T-1`, i.e.,\n",
    "```\n",
    "logits[b, 0, ...] ---> uses the sequence x[b, {0}] and is a distribution to predict x[b, 1] (target: x[b, 1])\n",
    "logits[b, 1, ...] ---> uses the sequence x[b, {0, 1}] and is a distribution to predict x[b, 2] (target: x[b, 2])\n",
    "\n",
    "\n",
    "logits[b, T-2, ...] --> uses the sequence x[b, {0, 1, ..., T-2}] and is a distribution to predict x[b, T-1] (target: x[b, T-1])\n",
    "```\n",
    "The last one is what we need here to predict the \"answer key token\" in order to answer the multiple choice question!\n"
   ]
  },
  {
   "cell_type": "code",
   "execution_count": 148,
   "metadata": {},
   "outputs": [],
   "source": [
    "class IMDBTrainer(Trainer):\n",
    "    def compute_loss(self, model, inputs, return_outputs=False):\n",
    "        outputs = model(**inputs)\n",
    "\n",
    "        # manual computation of language modeling loss\n",
    "        labels = inputs['labels']  # print(labels.shape) --> torch.Size([16, 64])\n",
    "        logits = outputs.logits  # print(outputs.logits.shape) --> [16, 64, 50257]\n",
    "        B, T, C = logits.shape\n",
    "\n",
    "        # print(outputs.logits[..., :-1, :].shape)\n",
    "        loss_function = torch.nn.CrossEntropyLoss()\n",
    "        loss1 = loss_function(logits[..., :-1, :].contiguous().view(B*(T-1), C),\n",
    "                              labels[..., 1:].contiguous().view(B*(T-1))\n",
    "                             )\n",
    "        \n",
    "        loss = outputs.loss\n",
    "        assert loss1.item() == loss.item(), 'something is wrong in loss calculation!' # sanity check\n",
    "        \n",
    "        return (loss, outputs) if return_outputs else loss"
   ]
  },
  {
   "cell_type": "code",
   "execution_count": 149,
   "metadata": {},
   "outputs": [
    {
     "data": {
      "text/plain": [
       "(1024, 1008)"
      ]
     },
     "execution_count": 149,
     "metadata": {},
     "output_type": "execute_result"
    }
   ],
   "source": [
    "16*64, 16*63"
   ]
  },
  {
   "cell_type": "code",
   "execution_count": 150,
   "metadata": {},
   "outputs": [
    {
     "data": {
      "text/plain": [
       "tensor([[[ 0.5362,  0.5246,  1.1412,  ..., -1.5910, -1.1360, -0.5226],\n",
       "         [ 0.7165,  1.5335, -1.4510,  ..., -0.5890, -1.0340, -0.2179],\n",
       "         [ 0.4146,  1.1566,  0.2691,  ...,  0.8541, -0.4901, -0.3595],\n",
       "         ...,\n",
       "         [ 0.5831,  0.0330, -1.2598,  ..., -1.2044, -0.4824, -0.8164],\n",
       "         [-1.5844, -2.5447,  1.3719,  ..., -0.7124, -1.6171, -0.3590],\n",
       "         [-0.1199,  0.9405,  0.4763,  ...,  0.8967, -0.2337,  0.0605]],\n",
       "\n",
       "        [[-0.1850, -1.0381, -0.1013,  ..., -0.7502,  1.2355,  1.0141],\n",
       "         [-0.6535,  1.4623,  0.1203,  ...,  1.0582,  0.1146,  1.9056],\n",
       "         [ 0.5124, -0.9819,  1.1259,  ...,  0.0832, -0.9222, -0.3711],\n",
       "         ...,\n",
       "         [ 1.1887,  1.0021, -1.4647,  ..., -0.1410,  0.8008,  0.9251],\n",
       "         [-0.5562,  1.1731,  0.6860,  ..., -0.3452, -0.7288, -1.4958],\n",
       "         [-0.3543,  0.8893,  0.8924,  ..., -1.8930,  0.5651,  0.8413]]])"
      ]
     },
     "execution_count": 150,
     "metadata": {},
     "output_type": "execute_result"
    }
   ],
   "source": [
    "x = torch.randn((2, 10, 100))\n",
    "y = torch.randn((2, 10))\n",
    "\n",
    "# y"
   ]
  },
  {
   "cell_type": "code",
   "execution_count": 151,
   "metadata": {},
   "outputs": [
    {
     "data": {
      "text/plain": [
       "torch.Size([2, 9, 100])"
      ]
     },
     "execution_count": 151,
     "metadata": {},
     "output_type": "execute_result"
    }
   ],
   "source": [
    "x[..., :-1, :].shape"
   ]
  },
  {
   "cell_type": "code",
   "execution_count": 152,
   "metadata": {},
   "outputs": [
    {
     "data": {
      "text/plain": [
       "torch.Size([2, 9])"
      ]
     },
     "execution_count": 152,
     "metadata": {},
     "output_type": "execute_result"
    }
   ],
   "source": [
    "y[..., 1:].shape"
   ]
  },
  {
   "cell_type": "markdown",
   "metadata": {},
   "source": [
    "> <strong><span style=&ldquo;color:#D83D2B;&rdquo;>Exercise 2.5.6: CrossEntropyLoss [more advanced]</span></strong>\n",
    ">\n",
    "> 1. Implement an even more explicit definition of the loss function by using the `torch.nn.CrossEntropyLoss()` and the labels which are passed as part of the inputs instead of using outputs.loss. The respective docs can be found on the PyTorch website. NB: Make sure to correctly shift your labels."
   ]
  },
  {
   "cell_type": "code",
   "execution_count": 153,
   "metadata": {},
   "outputs": [
    {
     "data": {
      "text/html": [
       "\n",
       "    <div>\n",
       "      \n",
       "      <progress value='160' max='160' style='width:300px; height:20px; vertical-align: middle;'></progress>\n",
       "      [160/160 03:40, Epoch 10/10]\n",
       "    </div>\n",
       "    <table border=\"1\" class=\"dataframe\">\n",
       "  <thead>\n",
       " <tr style=\"text-align: left;\">\n",
       "      <th>Step</th>\n",
       "      <th>Training Loss</th>\n",
       "      <th>Validation Loss</th>\n",
       "    </tr>\n",
       "  </thead>\n",
       "  <tbody>\n",
       "    <tr>\n",
       "      <td>5</td>\n",
       "      <td>4.057600</td>\n",
       "      <td>3.705219</td>\n",
       "    </tr>\n",
       "    <tr>\n",
       "      <td>10</td>\n",
       "      <td>4.095000</td>\n",
       "      <td>3.448643</td>\n",
       "    </tr>\n",
       "    <tr>\n",
       "      <td>15</td>\n",
       "      <td>4.514200</td>\n",
       "      <td>3.654313</td>\n",
       "    </tr>\n",
       "    <tr>\n",
       "      <td>20</td>\n",
       "      <td>3.584100</td>\n",
       "      <td>3.302715</td>\n",
       "    </tr>\n",
       "    <tr>\n",
       "      <td>25</td>\n",
       "      <td>3.359100</td>\n",
       "      <td>3.083275</td>\n",
       "    </tr>\n",
       "    <tr>\n",
       "      <td>30</td>\n",
       "      <td>3.456700</td>\n",
       "      <td>2.930611</td>\n",
       "    </tr>\n",
       "    <tr>\n",
       "      <td>35</td>\n",
       "      <td>3.177000</td>\n",
       "      <td>2.737638</td>\n",
       "    </tr>\n",
       "    <tr>\n",
       "      <td>40</td>\n",
       "      <td>2.817100</td>\n",
       "      <td>2.529520</td>\n",
       "    </tr>\n",
       "    <tr>\n",
       "      <td>45</td>\n",
       "      <td>2.867400</td>\n",
       "      <td>2.407414</td>\n",
       "    </tr>\n",
       "    <tr>\n",
       "      <td>50</td>\n",
       "      <td>2.521000</td>\n",
       "      <td>2.295037</td>\n",
       "    </tr>\n",
       "    <tr>\n",
       "      <td>55</td>\n",
       "      <td>2.385200</td>\n",
       "      <td>2.126240</td>\n",
       "    </tr>\n",
       "    <tr>\n",
       "      <td>60</td>\n",
       "      <td>2.458600</td>\n",
       "      <td>1.931063</td>\n",
       "    </tr>\n",
       "    <tr>\n",
       "      <td>65</td>\n",
       "      <td>2.000800</td>\n",
       "      <td>1.764840</td>\n",
       "    </tr>\n",
       "    <tr>\n",
       "      <td>70</td>\n",
       "      <td>1.844200</td>\n",
       "      <td>1.589729</td>\n",
       "    </tr>\n",
       "    <tr>\n",
       "      <td>75</td>\n",
       "      <td>1.996400</td>\n",
       "      <td>1.466749</td>\n",
       "    </tr>\n",
       "    <tr>\n",
       "      <td>80</td>\n",
       "      <td>2.001100</td>\n",
       "      <td>1.313543</td>\n",
       "    </tr>\n",
       "    <tr>\n",
       "      <td>85</td>\n",
       "      <td>1.485000</td>\n",
       "      <td>1.181919</td>\n",
       "    </tr>\n",
       "    <tr>\n",
       "      <td>90</td>\n",
       "      <td>1.563500</td>\n",
       "      <td>1.143291</td>\n",
       "    </tr>\n",
       "    <tr>\n",
       "      <td>95</td>\n",
       "      <td>1.574700</td>\n",
       "      <td>1.119993</td>\n",
       "    </tr>\n",
       "    <tr>\n",
       "      <td>100</td>\n",
       "      <td>1.674300</td>\n",
       "      <td>1.284549</td>\n",
       "    </tr>\n",
       "    <tr>\n",
       "      <td>105</td>\n",
       "      <td>1.654600</td>\n",
       "      <td>1.296677</td>\n",
       "    </tr>\n",
       "    <tr>\n",
       "      <td>110</td>\n",
       "      <td>1.599200</td>\n",
       "      <td>1.217879</td>\n",
       "    </tr>\n",
       "    <tr>\n",
       "      <td>115</td>\n",
       "      <td>1.543900</td>\n",
       "      <td>1.194179</td>\n",
       "    </tr>\n",
       "    <tr>\n",
       "      <td>120</td>\n",
       "      <td>1.427900</td>\n",
       "      <td>1.139181</td>\n",
       "    </tr>\n",
       "    <tr>\n",
       "      <td>125</td>\n",
       "      <td>1.498200</td>\n",
       "      <td>1.076126</td>\n",
       "    </tr>\n",
       "    <tr>\n",
       "      <td>130</td>\n",
       "      <td>1.275900</td>\n",
       "      <td>1.044287</td>\n",
       "    </tr>\n",
       "    <tr>\n",
       "      <td>135</td>\n",
       "      <td>1.295000</td>\n",
       "      <td>1.002443</td>\n",
       "    </tr>\n",
       "    <tr>\n",
       "      <td>140</td>\n",
       "      <td>1.311100</td>\n",
       "      <td>0.973104</td>\n",
       "    </tr>\n",
       "    <tr>\n",
       "      <td>145</td>\n",
       "      <td>1.181200</td>\n",
       "      <td>0.950409</td>\n",
       "    </tr>\n",
       "    <tr>\n",
       "      <td>150</td>\n",
       "      <td>1.223400</td>\n",
       "      <td>0.942014</td>\n",
       "    </tr>\n",
       "    <tr>\n",
       "      <td>155</td>\n",
       "      <td>1.332600</td>\n",
       "      <td>0.937367</td>\n",
       "    </tr>\n",
       "    <tr>\n",
       "      <td>160</td>\n",
       "      <td>1.081000</td>\n",
       "      <td>0.936453</td>\n",
       "    </tr>\n",
       "  </tbody>\n",
       "</table><p>"
      ],
      "text/plain": [
       "<IPython.core.display.HTML object>"
      ]
     },
     "metadata": {},
     "output_type": "display_data"
    },
    {
     "data": {
      "text/plain": [
       "TrainOutput(global_step=160, training_loss=2.247519689053297, metrics={'train_runtime': 221.1446, 'train_samples_per_second': 22.61, 'train_steps_per_second': 0.724, 'total_flos': 163307520000000.0, 'train_loss': 2.247519689053297, 'epoch': 10.0})"
      ]
     },
     "execution_count": 153,
     "metadata": {},
     "output_type": "execute_result"
    }
   ],
   "source": [
    "## need to reinitialize model? because it is already trained by the regular trainer\n",
    "model = GPT2LMHeadModel.from_pretrained(\"gpt2\").to(device)\n",
    "\n",
    "# use explicit trainer\n",
    "explicit_trainer = IMDBTrainer(\n",
    "    model=model,\n",
    "    tokenizer=tokenizer,\n",
    "    args=args,\n",
    "    data_collator=data_collator,\n",
    "    train_dataset=subsampled_dataset,\n",
    "    eval_dataset=subsampled_dataset,\n",
    ")\n",
    "\n",
    "explicit_trainer.train()"
   ]
  },
  {
   "cell_type": "markdown",
   "metadata": {},
   "source": [
    "Finally, we want to inspect the training dynamics by plotting the training and evaluation losses. These can be accessed in the Trainer history. Ideally, both of them should decrease -- this would indicate successful optimization. Feel free to play around with training parameters and plot the losses to see what effects different values have."
   ]
  },
  {
   "cell_type": "code",
   "execution_count": 154,
   "metadata": {},
   "outputs": [],
   "source": [
    "# plot the train and evaluation losses\n",
    "log_history = trainer.state.log_history\n",
    "\n",
    "# wrangle the trainer logs into a dataframe for easier plotting\n",
    "train_losses = []\n",
    "test_losses = []\n",
    "for d in log_history:\n",
    "    if \"loss\" in d.keys():\n",
    "        train_losses.append(d[\"loss\"])\n",
    "    elif \"eval_loss\" in d.keys():\n",
    "        test_losses.append(d[\"eval_loss\"])"
   ]
  },
  {
   "cell_type": "code",
   "execution_count": 155,
   "metadata": {},
   "outputs": [
    {
     "data": {
      "image/png": "[encoded data removed]",
      "text/plain": [
       "<Figure size 640x480 with 1 Axes>"
      ]
     },
     "metadata": {},
     "output_type": "display_data"
    }
   ],
   "source": [
    "# plot\n",
    "plt.plot(train_losses, label=\"train loss\")\n",
    "plt.plot(test_losses, label=\"test loss\")\n",
    "plt.xlabel(\"Logged steps\")\n",
    "plt.ylabel(\"Loss\")\n",
    "plt.legend()\n",
    "plt.show()"
   ]
  },
  {
   "cell_type": "code",
   "execution_count": 156,
   "metadata": {},
   "outputs": [
    {
     "data": {
      "image/png": "[encoded data removed]",
      "text/plain": [
       "<Figure size 640x480 with 1 Axes>"
      ]
     },
     "metadata": {},
     "output_type": "display_data"
    }
   ],
   "source": [
    "# plot the train and evaluation losses\n",
    "log_history = explicit_trainer.state.log_history\n",
    "\n",
    "# wrangle the trainer logs into a dataframe for easier plotting\n",
    "train_losses = []\n",
    "test_losses = []\n",
    "for d in log_history:\n",
    "    if \"loss\" in d.keys():\n",
    "        train_losses.append(d[\"loss\"])\n",
    "    elif \"eval_loss\" in d.keys():\n",
    "        test_losses.append(d[\"eval_loss\"])\n",
    "\n",
    "# plot\n",
    "plt.plot(train_losses, label=\"train loss\")\n",
    "plt.plot(test_losses, label=\"test loss\")\n",
    "plt.xlabel(\"Logged steps\")\n",
    "plt.ylabel(\"Loss\")\n",
    "plt.legend()\n",
    "plt.show()"
   ]
  },
  {
   "cell_type": "markdown",
   "metadata": {},
   "source": [
    "### Outlook\n",
    "\n",
    "The code above used a GPT-2 specific class, `GPT2LMHeadModel`, to load the model. However, instead of the architecture-specific classes the so called AutoClass can often be used instead. It essentially \"infers\" the architecture from a configuration file that is retrieved when a model is downloaded from HF. In the next tutorials, you will often see subclasses of this being used. You can find more (optional) information [here](https://huggingface.co/docs/transformers/model_doc/auto)."
   ]
  },
  {
   "cell_type": "markdown",
   "metadata": {},
   "source": []
  }
 ],
 "metadata": {
  "kernelspec": {
   "display_name": "Python 3 (ipykernel)",
   "language": "python",
   "name": "python3"
  },
  "language_info": {
   "codemirror_mode": {
    "name": "ipython",
    "version": 3
   },
   "file_extension": ".py",
   "mimetype": "text/x-python",
   "name": "python",
   "nbconvert_exporter": "python",
   "pygments_lexer": "ipython3",
   "version": "3.9.19"
  }
 },
 "nbformat": 4,
 "nbformat_minor": 4
}
